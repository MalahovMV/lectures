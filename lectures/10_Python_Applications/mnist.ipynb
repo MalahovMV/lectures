{
 "cells": [
  {
   "cell_type": "code",
   "execution_count": 1,
   "metadata": {
    "collapsed": false
   },
   "outputs": [],
   "source": [
    "import matplotlib.pyplot as plt\n",
    "import numpy as np\n",
    "import tensorflow as tf\n",
    "\n",
    "from tensorflow.examples.tutorials.mnist import input_data\n",
    "\n",
    "%matplotlib inline"
   ]
  },
  {
   "cell_type": "code",
   "execution_count": 2,
   "metadata": {
    "collapsed": false
   },
   "outputs": [
    {
     "name": "stdout",
     "output_type": "stream",
     "text": [
      "Extracting data/train-images-idx3-ubyte.gz\n",
      "Extracting data/train-labels-idx1-ubyte.gz\n",
      "Extracting data/t10k-images-idx3-ubyte.gz\n",
      "Extracting data/t10k-labels-idx1-ubyte.gz\n"
     ]
    }
   ],
   "source": [
    "mnist = input_data.read_data_sets('data/', one_hot=True)"
   ]
  },
  {
   "cell_type": "code",
   "execution_count": 3,
   "metadata": {
    "collapsed": false
   },
   "outputs": [
    {
     "data": {
      "image/png": "[encoded data removed]",
      "text/plain": [
       "<matplotlib.figure.Figure at 0x11b827f60>"
      ]
     },
     "metadata": {},
     "output_type": "display_data"
    },
    {
     "data": {
      "image/png": "[encoded data removed]",
      "text/plain": [
       "<matplotlib.figure.Figure at 0x124beef98>"
      ]
     },
     "metadata": {},
     "output_type": "display_data"
    },
    {
     "data": {
      "image/png": "[encoded data removed]",
      "text/plain": [
       "<matplotlib.figure.Figure at 0x124c475f8>"
      ]
     },
     "metadata": {},
     "output_type": "display_data"
    }
   ],
   "source": [
    "images = np.random.randint(mnist.train.images.shape[0], size=3)\n",
    "\n",
    "for idx in images:\n",
    "    img   = np.reshape(mnist.train.images[idx, :], (28, 28))\n",
    "    plt.matshow(img, cmap=plt.get_cmap('gray'))"
   ]
  },
  {
   "cell_type": "code",
   "execution_count": 4,
   "metadata": {
    "collapsed": false
   },
   "outputs": [],
   "source": [
    "n_hidden_1 = 256 \n",
    "n_hidden_2 = 128 \n",
    "n_input    = 28 * 28\n",
    "n_classes  = 10  \n",
    "\n",
    "x = tf.placeholder(\"float\", [None, n_input])\n",
    "y = tf.placeholder(\"float\", [None, n_classes])\n",
    "\n",
    "\n",
    "weights = {\n",
    "    'h1': tf.Variable(tf.random_normal([n_input, n_hidden_1])),\n",
    "    'h2': tf.Variable(tf.random_normal([n_hidden_1, n_hidden_2])),\n",
    "    'out': tf.Variable(tf.random_normal([n_hidden_2, n_classes]))\n",
    "}\n",
    "\n",
    "biases = {\n",
    "    'b1': tf.Variable(tf.random_normal([n_hidden_1])),\n",
    "    'b2': tf.Variable(tf.random_normal([n_hidden_2])),\n",
    "    'out': tf.Variable(tf.random_normal([n_classes]))\n",
    "}"
   ]
  },
  {
   "cell_type": "code",
   "execution_count": 5,
   "metadata": {
    "collapsed": true
   },
   "outputs": [],
   "source": [
    "def multilayer_perceptron(x, weights, biases):\n",
    "    layer_1 = tf.nn.sigmoid(tf.add(tf.matmul(x, weights['h1']), biases['b1'])) \n",
    "    layer_2 = tf.nn.sigmoid(tf.add(tf.matmul(layer_1, weights['h2']), biases['b2']))\n",
    "\n",
    "    return tf.matmul(layer_2, weights['out']) + biases['out']"
   ]
  },
  {
   "cell_type": "code",
   "execution_count": 6,
   "metadata": {
    "collapsed": false
   },
   "outputs": [],
   "source": [
    "prediction = multilayer_perceptron(x, weights, biases)\n",
    "\n",
    "loss = tf.reduce_mean(tf.nn.softmax_cross_entropy_with_logits(prediction, y)) \n",
    "optimizer = tf.train.AdamOptimizer(learning_rate=0.001).minimize(loss) \n",
    "\n",
    "correct_predictions = tf.equal(tf.argmax(prediction, 1), tf.argmax(y, 1))    \n",
    "accuracy = tf.reduce_mean(tf.cast(correct_predictions, \"float\"))\n",
    "tf.summary.scalar('accuracy', accuracy)\n",
    "\n",
    "sess = tf.Session()\n",
    "\n",
    "writer = tf.summary.FileWriter('/tmp/tf/', sess.graph)\n",
    "merged = tf.summary.merge_all()\n",
    "\n",
    "init = tf.global_variables_initializer()"
   ]
  },
  {
   "cell_type": "code",
   "execution_count": 7,
   "metadata": {
    "collapsed": false
   },
   "outputs": [
    {
     "name": "stdout",
     "output_type": "stream",
     "text": [
      "Epoch: 01 / 20, Accuracy: 79.87%\n",
      "Epoch: 02 / 20, Accuracy: 86.41%\n",
      "Epoch: 03 / 20, Accuracy: 88.78%\n",
      "Epoch: 04 / 20, Accuracy: 90.42%\n",
      "Epoch: 05 / 20, Accuracy: 91.42%\n",
      "Epoch: 06 / 20, Accuracy: 92.08%\n",
      "Epoch: 07 / 20, Accuracy: 92.67%\n",
      "Epoch: 08 / 20, Accuracy: 92.92%\n",
      "Epoch: 09 / 20, Accuracy: 93.01%\n",
      "Epoch: 10 / 20, Accuracy: 93.70%\n",
      "Epoch: 11 / 20, Accuracy: 94.10%\n",
      "Epoch: 12 / 20, Accuracy: 94.20%\n",
      "Epoch: 13 / 20, Accuracy: 94.17%\n",
      "Epoch: 14 / 20, Accuracy: 94.46%\n",
      "Epoch: 15 / 20, Accuracy: 94.57%\n",
      "Epoch: 16 / 20, Accuracy: 94.59%\n",
      "Epoch: 17 / 20, Accuracy: 94.67%\n",
      "Epoch: 18 / 20, Accuracy: 94.88%\n",
      "Epoch: 19 / 20, Accuracy: 94.90%\n",
      "Epoch: 20 / 20, Accuracy: 94.84%\n"
     ]
    }
   ],
   "source": [
    "epochs = 20\n",
    "batch_size = 100\n",
    "batch_count = int(mnist.train.num_examples / batch_size)\n",
    "\n",
    "sess.run(init)\n",
    "\n",
    "for epoch in range(epochs):\n",
    "    for _ in range(batch_count):\n",
    "        batch_x, batch_y = mnist.train.next_batch(batch_size)\n",
    "        sess.run(optimizer, feed_dict={x: batch_x, y: batch_y})\n",
    "        \n",
    "    summary, epoch_accuracy = sess.run([merged, accuracy], feed_dict={x: mnist.test.images, y: mnist.test.labels})\n",
    "    writer.add_summary(summary, epoch + 1)\n",
    "\n",
    "    print(\"Epoch: {:02d} / {}, Accuracy: {:.2f}%\".format(epoch + 1, epochs, epoch_accuracy * 100))\n",
    "\n",
    "\n",
    "writer.flush()\n",
    "writer.close()"
   ]
  }
 ],
 "metadata": {
  "anaconda-cloud": {},
  "kernelspec": {
   "display_name": "Python 3",
   "language": "python",
   "name": "python3"
  },
  "language_info": {
   "codemirror_mode": {
    "name": "ipython",
    "version": 3
   },
   "file_extension": ".py",
   "mimetype": "text/x-python",
   "name": "python",
   "nbconvert_exporter": "python",
   "pygments_lexer": "ipython3",
   "version": "3.5.1"
  }
 },
 "nbformat": 4,
 "nbformat_minor": 1
}
