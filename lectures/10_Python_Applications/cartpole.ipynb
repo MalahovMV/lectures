{
 "cells": [
  {
   "cell_type": "code",
   "execution_count": 3,
   "metadata": {
    "collapsed": false
   },
   "outputs": [
    {
     "name": "stderr",
     "output_type": "stream",
     "text": [
      "[2016-12-13 18:46:37,226] Clearing 4 monitor files from previous run (because force=True was provided)\n",
      "[2016-12-13 18:46:37,239] Starting new video recorder writing to /tmp/cartpole/openaigym.video.1.15249.video000000.mp4\n",
      "[2016-12-13 18:46:42,146] Finished writing results. You can upload them to the scoreboard via gym.upload('/tmp/cartpole')\n"
     ]
    }
   ],
   "source": [
    "import logging\n",
    "\n",
    "import gym\n",
    "import numpy as np\n",
    "import matplotlib.pyplot as plt\n",
    "\n",
    "\n",
    "# do not repeat this at home\n",
    "import gym.envs.registration\n",
    "gym.envs.registration.logger.setLevel(logging.ERROR)\n",
    "\n",
    "\n",
    "def run_episode(env, parameters, limit=200):\n",
    "    observation = env.reset()\n",
    "    total_reward = 0\n",
    "    \n",
    "    for _ in xrange(limit):\n",
    "        action = 0 if np.matmul(parameters, observation) < 0 else 1\n",
    "        observation, reward, done, info = env.step(action)\n",
    "        total_reward += reward\n",
    "\n",
    "        if done:\n",
    "            break\n",
    "\n",
    "    return total_reward\n",
    "\n",
    "\n",
    "def train(limit=200):\n",
    "    env = gym.make('CartPole-v0')\n",
    "    \n",
    "    reward = 0\n",
    "    params = 0\n",
    "    counter = 0\n",
    "\n",
    "    while True:\n",
    "        counter += 1\n",
    "\n",
    "        current_params = np.random.rand(4) * 2 - 1\n",
    "        current_reward = run_episode(env, current_params, limit)\n",
    "\n",
    "        if current_reward > reward:\n",
    "            reward = current_reward\n",
    "            params = current_params\n",
    "\n",
    "            if reward == limit:\n",
    "                break\n",
    "\n",
    "    return counter, params\n",
    "\n",
    "\n",
    "def play(limit=200):\n",
    "    _, params = train(limit=limit)\n",
    "\n",
    "    env = gym.make('CartPole-v0')\n",
    "    env.monitor.start('/tmp/cartpole', force=True)\n",
    "    \n",
    "    run_episode(env, params, limit=limit)\n",
    "    \n",
    "    env.monitor.close()\n",
    "\n",
    "    \n",
    "def evaluate():\n",
    "    results = [train()[0] for _ in xrange(500)]\n",
    "    plt.hist(results, 50, normed=1, facecolor='b', alpha=0.75)\n",
    "\n",
    "    plt.xlabel('Episodes required to reach 200')\n",
    "    plt.ylabel('Frequency')\n",
    "    plt.title('Random Search')\n",
    "\n",
    "    plt.show()\n",
    "\n",
    "\n",
    "play()\n",
    "# evaluate()"
   ]
  }
 ],
 "metadata": {
  "kernelspec": {
   "display_name": "Python [conda root]",
   "language": "python",
   "name": "conda-root-py"
  },
  "language_info": {
   "codemirror_mode": {
    "name": "ipython",
    "version": 2
   },
   "file_extension": ".py",
   "mimetype": "text/x-python",
   "name": "python",
   "nbconvert_exporter": "python",
   "pygments_lexer": "ipython2",
   "version": "2.7.12"
  }
 },
 "nbformat": 4,
 "nbformat_minor": 1
}
